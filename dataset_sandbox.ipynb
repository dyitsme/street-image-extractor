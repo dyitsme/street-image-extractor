{
 "cells": [
  {
   "cell_type": "code",
   "execution_count": 1,
   "metadata": {},
   "outputs": [],
   "source": [
    "import pandas as pd"
   ]
  },
  {
   "cell_type": "code",
   "execution_count": 14,
   "metadata": {},
   "outputs": [],
   "source": [
    "img_url1 = \"https://scontent.fmnl30-2.fna.fbcdn.net/m1/v/t6/An_s-0zqp5MQy3MiQtZ2g7ANQaWWnwXsPP1MsrvmxEd-fx-libYa74TzhABov8aTbqz89CPbeLFQeStDYjnWzsE1KobpruJEpHR3LyH2tK3EUEZNtOHpj_5GSrknXjhE22wFXHCKrv_j083AQLu71g?stp=s2048x1152&ccb=10-5&oh=00_AfBYxYJyb5roPBa5NDSL8raoj4a_D72zlObjHT13VyM6fQ&oe=65B33E04&_nc_sid=201bca\"\n",
    "img_url2 = \"https://scontent.fmnl30-2.fna.fbcdn.net/m1/v/t6/An_IwprwAcZKUjTIne_Oqb3yhDQ5ap-f2zC6gu4nE_q2NtTEE55O3cc-FELbgZaMs9iv5C_6YTJyXVUtLj5UqteJElpDglag6cq17-eXAkPSQFZ7lSXqyUtYaRp0sHkAJ_C-qw4HBIYPChIryTgJFmk?stp=s2048x1152&ccb=10-5&oh=00_AfD8X4fPRyMe_gkKPcJt05cdRhhVcNGhU1Nq2WUzKMaf_g&oe=65B3439A&_nc_sid=201bca\"\n",
    "img_url3 = \"https://scontent.fmnl30-2.fna.fbcdn.net/m1/v/t6/An-aC9HaVwUc_X6J59bY6v-ptbvnK1zPtD08VAKdzPMMGNTVdnF2KTkZUYeWtujWagOw2lrKL6U1qM0dNHB0Jpnb0AId96noFTaM-7sjCyyUKizzhUmm8OGiF4_oIPyyGxyQ9pFJxrKacdD-2BhnNw?stp=s2048x1152&ccb=10-5&oh=00_AfDbm4vIX8HyJa_OHWi9jySHyNl_Ez1jhlATzIkU2hFBXg&oe=65B337E5&_nc_sid=201bca\"\n",
    "img_url4 = \"https://scontent.fmnl30-2.fna.fbcdn.net/m1/v/t6/An-ZnPJiEhxprYqiLfTJW9XRXPaeG2dBjr79xYKyBtgdhdJGJVA0yZrOO36jcr6L5wD8XME5fbQ5cGtx60kU6lo3EE-7KgRHdDuv-VcqivZ8oxOIk2RU882xHUnZ0ZYejEmWFtEmrLJTa1txPpdtow?stp=s2048x1536&ccb=10-5&oh=00_AfCTI6YhhL6-dTe7Cwk9Y3R30Zr_inf7G8k3uJ_XbS6rCQ&oe=65B3246B&_nc_sid=201bca\"\n",
    "img_url5 = \"https://scontent.fmnl30-2.fna.fbcdn.net/m1/v/t6/An-baovEV-ojU2_anWoge1B7sU1Eu-7uwUCv4tdgXVGFTTUh1581WS-c1aduoiA6NhS_LbEIVkiChg0uQv5YstnIIXWk9-a4rbmC__NmalHTZxdnPNBjyXaXp0k3pk76NOHHcWUm4rWKILBwbrqKlg?stp=s2048x1152&ccb=10-5&oh=00_AfCLUj5UsCziv26aodX-OfJQAVYQ1Dv7YJEb65UVwqG53Q&oe=65B31BE7&_nc_sid=201bca\"\n",
    "img_url6 = \"https://scontent.fmnl30-2.fna.fbcdn.net/m1/v/t6/An-H56XFG-G7_SUR2llzEElswLZkvzi0fqhxH5hzQfHV-jCUXsGRM5FOIeUKs4QDhUuqshDdbH5c6M1m05PoN_csSafVYp0M3bMcKzLpWNyB39VDrJKirv2f9bBr9gARG8X7B5I3R7bjRazCXHUaopM?stp=s2048x1152&ccb=10-5&oh=00_AfA7lkMZCDIu8P-AIl1O27E4GUPJuZvV8Vk_OM44Xex6jA&oe=65B32B76&_nc_sid=201bca\"\n",
    "img_url7 = \"https://scontent.fmnl30-2.fna.fbcdn.net/m1/v/t6/An9TGsMIYwpUQMHnk2AgpzsnyeYouht7eq-SoVGE_hqpCKKAOXlapK330gI9jNAS3gA1xn1oj-wBpNZEJylnrvsC8yMF_qfklE5oisPHYUQO_xAT9ofQSAQ8E4OSLprSs5k2rtzrcEAxVSy1WG3jAw?stp=s2048x1152&ccb=10-5&oh=00_AfDg2BvnoymTOQca0G99vjUIS8N1xexHMpboygJzHjKYZw&oe=65B34207&_nc_sid=201bca\"\n",
    "img_url8 = \"https://scontent.fmnl30-2.fna.fbcdn.net/m1/v/t6/An8PQZKZXl7a-5NoTKmahtSHoUntNF0uIZJxvcnJeoEzf_dcLXSiZ4mIKW3BCU1_atgLM-570mnpAFEsU77VbflN0Xelera2lucbz4uwZ6rusigRVaoG2XZ2UADjfhFmC2bTCCjwDqx4uhMQaZC96YI?stp=s2048x1152&ccb=10-5&oh=00_AfB00D57gWoblSPYk-t3cKYdzPODdsC3WnUh923GdVbTRA&oe=65B31D6C&_nc_sid=201bca\"\n",
    "\n",
    "img_list = [img_url1, img_url2, img_url3, img_url4, img_url5, img_url6, img_url7, img_url8]\n",
    "\n",
    "\n",
    "data = {\n",
    "  \"img1\": [],\n",
    "  \"img2\": [],\n",
    "  \"label\": []\n",
    "}\n",
    "\n",
    "for i in range(len(img_list)):\n",
    "  for j in range(len(img_list)):\n",
    "    if i != j:\n",
    "      data[\"img1\"].append(img_list[i])\n",
    "      data[\"img2\"].append(img_list[j])\n",
    "      data[\"label\"].append(0)\n",
    "\n",
    "df = pd.DataFrame.from_dict(data)\n",
    "df.to_csv(\"part_train.csv\", index=False)\n",
    "# data"
   ]
  },
  {
   "cell_type": "code",
   "execution_count": 15,
   "metadata": {},
   "outputs": [],
   "source": [
    "img_url1 = \"https://scontent.fmnl30-2.fna.fbcdn.net/m1/v/t6/An_OP2vAjxR0IJ8mgV2J_IcASZzwElJvLooPfPOtU4DABTePyRcnwcU20Egs079Z6BbzguBkyh5HVR1OcZk3Gp4mupMT1nW-mKWTZ3te4TlPL6AeWPDJ82oi2aABdHI1Mwq47-o42sv-F6AKmr5XFg?stp=s2048x1152&ccb=10-5&oh=00_AfDsgswmu7uf0IYsVU6SKI3D3j-272Tfn1j0QN4CT8YJDA&oe=65B3335B&_nc_sid=201bca\"\n",
    "img_url2 = \"https://scontent.fmnl30-2.fna.fbcdn.net/m1/v/t6/An_20xEH0LAS4PNcdAosbqgLLBtsONKY5DCSGSVYeR6gPjQOrxNvQJ-2mf-zX1hPCmajWtMZKcBa7-n5nqUsyWz3NrR7JpXqAngh4H1AUyxcr-MxCnlZqaGiG6vMrmPjTANynVrPsY4iECG-Sf-j4A?stp=s2048x1152&ccb=10-5&oh=00_AfBGVOLxZehSZNifviJgnp6VbTzplwi2TkqJb-Tntf4K3Q&oe=65B331FE&_nc_sid=201bca\"\n",
    "img_url3 = \"https://scontent.fmnl30-2.fna.fbcdn.net/m1/v/t6/An-3VKSYL6J0NJkk9iDmzOda6LcTzBLCaBqAUshLaXrZOcwCOvD_tfXwxwbRHr9fcFl9BYbTxut6oRjb6tvviPQl3Cv6FO6ppjzfVFzjjzNJuKgnZveCdbIcKscGsNMA2l8MWuvTqsKkI-8yOeP_lQ?stp=s2048x1536&ccb=10-5&oh=00_AfBrZhzIYsql_ajEASAeg5K9pVIBNAuGMFyYhiqgBP6Mqg&oe=65B3347D&_nc_sid=201bca\"\n",
    "img_url4 = \"https://scontent.fmnl30-2.fna.fbcdn.net/m1/v/t6/An9_b8G5_-F9xA-elnFqvHQ9tr5c7FeFBZj439hQUVaG-Af87DVY3jcZQUR7jl0xaMmdwagNvjTKn5-IM0qFMoRxNkPMgulSMH3FxoGUEVHHY84jSOi3sfU9MHtP8zqzMlDGhUowcAp-Xx3NtEJRBw?stp=s2048x1152&ccb=10-5&oh=00_AfD8GFBjzcQAs4WF3xXgSBV9dZdZZAoTOJYK4q8eulkyrg&oe=65B32982&_nc_sid=201bca\"\n",
    "img_url5 = \"https://scontent.fmnl30-2.fna.fbcdn.net/m1/v/t6/An-D4wQlic21BxKgCzh03f0AhQRpijokyvi3py3Evw4HvqueLsamxEelCsdSei1EvCOx8lTz_OhsbB087GxOdFrMMHzb2FHWY8GopkL5yVo3mMT-mDBP9T60pa9l1aCzgxrG6KiBcj6wlquEig3Rww?stp=s2048x1152&ccb=10-5&oh=00_AfDhOtv_tj4U3217NGrqyEkfK3yQUhJZQ2WboAkjVo7glQ&oe=65B3302C&_nc_sid=201bca\"\n",
    "img_url6 = \"https://scontent.fmnl30-2.fna.fbcdn.net/m1/v/t6/An-D4wQlic21BxKgCzh03f0AhQRpijokyvi3py3Evw4HvqueLsamxEelCsdSei1EvCOx8lTz_OhsbB087GxOdFrMMHzb2FHWY8GopkL5yVo3mMT-mDBP9T60pa9l1aCzgxrG6KiBcj6wlquEig3Rww?stp=s2048x1152&ccb=10-5&oh=00_AfDhOtv_tj4U3217NGrqyEkfK3yQUhJZQ2WboAkjVo7glQ&oe=65B3302C&_nc_sid=201bca\"\n",
    "img_url7 = \"https://scontent.fmnl30-2.fna.fbcdn.net/m1/v/t6/An8wTkkClBCMT4hfkNEK5g55es14fdR6L73roqaBC2NTBOMhiD9ywSdgRzUYq4kPOUW_Hi5sYgqf1ole3uYIDhrBhiwb1nx6wE6JA7BXdR7IsdY3EaWzDaGxf3xuX0w58fTSGfQBN-5iW0xF_Znqjw?stp=s2048x1024&ccb=10-5&oh=00_AfBJhkW0d5cSIkGr6y_b7ifsUWfl_CDpB1lciQIlk3WNpg&oe=65B34563&_nc_sid=201bca\"\n",
    "img_url8 = \"https://scontent.fmnl30-2.fna.fbcdn.net/m1/v/t6/An_QURYfjEoMqSuCzvewoktzi939LuieJDmyU9JOvfYvrQM4M0v6cBdRXTgZV9vRVpzrFNvJypeRvUyBTtzQpPzxLjk18DStKrZO86KFuaeEyjkbVxhFSjWu_9JluoNaZ9NtnD_onUSQjUUJ0LVf_w?stp=s2048x1536&ccb=10-5&oh=00_AfCGQ-pIVnvJISnRb2uwldXvYitJLRG7suzfcJypwdVPPQ&oe=65B340D0&_nc_sid=201bca\"\n",
    "img_url9 = \"https://scontent.fmnl30-2.fna.fbcdn.net/m1/v/t6/An9yLh3pR_uTgTPQWhVPwB-YuO8-UzhL3AOi_ifdGH0mrpw1KnZNjU79ZuyKFsCOWSB0CxDXNbijfd5MnrOVJMA8IqKD5ycyyhUNDqFoEHkZngXLQ4QLftKQTTxUztUOY_jvD0pY4PatvBRTFix1Dg?stp=s2048x1152&ccb=10-5&oh=00_AfBzLerrkyD5UkcLxVp-iM8tR62q89M1yTrTNr9DGPQsjQ&oe=65B32FFF&_nc_sid=201bca\"\n",
    "\n",
    "img_list = [img_url1, img_url2, img_url3, img_url4, img_url5, img_url6, img_url7, img_url8, img_url9]\n",
    "\n",
    "\n",
    "data = {\n",
    "  \"img1\": [],\n",
    "  \"img2\": [],\n",
    "  \"label\": []\n",
    "}\n",
    "\n",
    "for i in range(len(img_list)):\n",
    "  for j in range(len(img_list)):\n",
    "    if i != j:\n",
    "      data[\"img1\"].append(img_list[i])\n",
    "      data[\"img2\"].append(img_list[j])\n",
    "      data[\"label\"].append(0)\n",
    "\n",
    "df = pd.DataFrame.from_dict(data)\n",
    "df.to_csv(\"part_train2.csv\", index=False)"
   ]
  }
 ],
 "metadata": {
  "kernelspec": {
   "display_name": "Python 3 (ipykernel)",
   "language": "python",
   "name": "python3"
  },
  "language_info": {
   "codemirror_mode": {
    "name": "ipython",
    "version": 3
   },
   "file_extension": ".py",
   "mimetype": "text/x-python",
   "name": "python",
   "nbconvert_exporter": "python",
   "pygments_lexer": "ipython3",
   "version": "3.9.13"
  }
 },
 "nbformat": 4,
 "nbformat_minor": 2
}
