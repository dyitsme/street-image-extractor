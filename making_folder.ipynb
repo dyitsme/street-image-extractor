{
 "cells": [
  {
   "cell_type": "code",
   "execution_count": 2,
   "metadata": {},
   "outputs": [
    {
     "data": {
      "text/plain": [
       "'C:\\\\Users\\\\Sean\\\\Documents\\\\Python Notebooks\\\\street-image-extractor'"
      ]
     },
     "execution_count": 2,
     "metadata": {},
     "output_type": "execute_result"
    }
   ],
   "source": [
    "import os\n",
    "os.getcwd()"
   ]
  },
  {
   "cell_type": "markdown",
   "metadata": {
    "jp-MarkdownHeadingCollapsed": true,
    "tags": []
   },
   "source": [
    "## MAKING FOLDERS"
   ]
  },
  {
   "cell_type": "code",
   "execution_count": 5,
   "metadata": {},
   "outputs": [
    {
     "name": "stdout",
     "output_type": "stream",
     "text": [
      "Folders created successfully.\n"
     ]
    }
   ],
   "source": [
    "# Specify the directory where you want to create the folders\n",
    "base_directory = 'data/images/pasig_X'\n",
    "\n",
    "# Create folders labeled from 1 to 200\n",
    "for i in range(1, 201):\n",
    "    folder_name = str(i)\n",
    "    folder_path = os.path.join(base_directory, folder_name)\n",
    "    os.makedirs(folder_path)\n",
    "\n",
    "print(\"Folders created successfully.\")\n"
   ]
  },
  {
   "cell_type": "code",
   "execution_count": 2,
   "metadata": {},
   "outputs": [
    {
     "data": {
      "text/plain": [
       "'C:\\\\Users\\\\Sean\\\\Documents\\\\Python Notebooks\\\\street-image-extractor'"
      ]
     },
     "execution_count": 2,
     "metadata": {},
     "output_type": "execute_result"
    }
   ],
   "source": []
  },
  {
   "cell_type": "markdown",
   "metadata": {},
   "source": [
    "## COMPARING COORDINATES"
   ]
  },
  {
   "cell_type": "markdown",
   "metadata": {},
   "source": [
    "## Filtered Paranaque Images"
   ]
  },
  {
   "cell_type": "code",
   "execution_count": 1,
   "metadata": {
    "tags": []
   },
   "outputs": [
    {
     "name": "stdout",
     "output_type": "stream",
     "text": [
      "Indices of filtered coords in old csv:\n",
      "[  1.  14.  15.  16.  17.  18.  19.  26.  32.  33.  34.  36.  44.  45.\n",
      "  54.  55.  61.  62.  65.  66.  72.  73.  74.  75.  77.  80.  82.  83.\n",
      "  84.  89.  90.  91.  92.  95.  96.  97.  98.  99. 102. 103. 104. 105.\n",
      " 106. 110. 112. 114. 116. 120. 121. 122. 123. 129. 130. 131. 132. 133.\n",
      " 139. 140. 141. 142. 150. 151. 155. 156. 157. 158. 159. 160. 167. 168.\n",
      " 169. 170. 171. 172. 175. 176. 177. 178. 179. 180. 181. 182. 188. 189.\n",
      " 190. 191. 194. 195. 196. 197. 198. 199. 200. 201. 202. 203. 210. 211.\n",
      " 212. 213. 214. 218. 219. 220. 221. 222. 227. 228. 234. 235. 236. 237.\n",
      " 238. 239. 242. 243. 244. 245. 246. 252. 254. 255. 256. 257. 262. 263.\n",
      " 264. 268. 270. 271. 272. 273. 274. 275. 279. 281. 282. 283. 284. 285.\n",
      " 290. 291. 292. 293. 294. 295. 298. 301. 302. 303. 303. 304. 305. 306.\n",
      " 307. 308. 309. 310. 312. 313. 329. 390. 393. 398. 401. 406. 410. 413.\n",
      " 415. 420. 423. 431. 437. 439. 451. 455. 459. 460. 461. 462. 463. 464.\n",
      " 465. 466. 467. 474. 475. 476. 477. 478. 479. 480. 481. 482. 483. 484.\n",
      " 485. 491. 492. 493. 494. 495. 496. 497. 498. 499. 509. 510. 511. 512.\n",
      " 513. 514. 515. 516. 517. 519. 520. 527. 528. 529. 530. 531. 533. 534.\n",
      " 535. 536. 537. 538. 539. 540. 542. 549. 550. 551. 552. 553. 554. 555.\n",
      " 556. 557. 565. 566. 567.]\n"
     ]
    }
   ],
   "source": [
    "import pandas as pd\n",
    "import numpy as np\n",
    "\n",
    "file1_path = 'data/csv/newParanaque_saved_coordinates.csv'\n",
    "file2_path = 'data/csv/paranaque_filtered_coordinates.csv'\n",
    "\n",
    "old_coords = pd.read_csv(file1_path)\n",
    "new_coords = pd.read_csv(file2_path)\n",
    "\n",
    "old_xCoord = old_coords['X']\n",
    "old_yCoord = old_coords['Y']\n",
    "\n",
    "new_xCoord = new_coords['X']\n",
    "new_yCoord = new_coords['Y']\n",
    "\n",
    "paranaque_different_indices = np.array([])\n",
    "\n",
    "for i, (new_x, new_y) in enumerate(zip(new_xCoord, new_yCoord)):\n",
    "    for j, (old_x, old_y) in enumerate(zip(old_xCoord,old_yCoord)):\n",
    "        if (old_x == new_x) or (old_y == new_y):\n",
    "            paranaque_different_indices = np.append(paranaque_different_indices, j)\n",
    "            break\n",
    "\n",
    "print(\"Indices of filtered coords in old csv:\")\n",
    "print(np.sort(paranaque_different_indices))"
   ]
  },
  {
   "cell_type": "code",
   "execution_count": 2,
   "metadata": {},
   "outputs": [
    {
     "data": {
      "text/plain": [
       "243"
      ]
     },
     "execution_count": 2,
     "metadata": {},
     "output_type": "execute_result"
    }
   ],
   "source": [
    "len(paranaque_different_indices)"
   ]
  },
  {
   "cell_type": "code",
   "execution_count": 4,
   "metadata": {
    "tags": []
   },
   "outputs": [],
   "source": [
    "import os\n",
    "import shutil\n",
    "import numpy as np\n",
    "\n",
    "def copy_images(source_folder, dest_folder, indices):\n",
    "    os.makedirs(dest_folder, exist_ok=True)\n",
    "    \n",
    "    for index in indices.astype(int):\n",
    "        filename = os.listdir(source_folder)[index]\n",
    "        \n",
    "        source_path = os.path.join(source_folder, filename)\n",
    "        dest_path = os.path.join(dest_folder, filename)\n",
    "        \n",
    "        shutil.copyfile(source_path, dest_path)\n",
    "\n",
    "source_folder = \"data/images/newParanaque\"\n",
    "dest_folder = \"data/images/filtered_paranaque_images\"\n",
    "\n",
    "copy_images(source_folder, dest_folder, paranaque_different_indices)\n"
   ]
  },
  {
   "cell_type": "markdown",
   "metadata": {},
   "source": [
    "## Filtered Pasig Images"
   ]
  },
  {
   "cell_type": "code",
   "execution_count": 8,
   "metadata": {},
   "outputs": [
    {
     "name": "stdout",
     "output_type": "stream",
     "text": [
      "Indices of filtered coords in old csv:\n",
      "[  3.   5.   6.   7.   8.   9.  10.  11.  12.  13.  14.  15.  16.  17.\n",
      "  18.  19.  21.  23.  24.  27.  28.  29.  30.  31.  32.  33.  34.  35.\n",
      "  36.  37.  38.  40.  43.  45.  47.  48.  49.  50.  52.  53.  54.  55.\n",
      "  59.  60.  61.  62.  63.  64.  65.  66.  67.  68.  69.  70.  71.  74.\n",
      "  75.  76.  77.  78.  79.  80.  81.  83.  84.  85.  86.  87.  89.  90.\n",
      "  91.  92.  93.  94.  95.  96.  97.  99. 100. 102. 103. 104. 105. 106.\n",
      " 107. 108. 109. 110. 111. 112. 113. 114. 115. 116. 117. 118. 119. 120.\n",
      " 121. 123. 124. 125. 126. 127. 128. 129. 130. 131. 133. 134. 135. 136.\n",
      " 137. 138. 139. 141. 142. 143. 146. 147. 148. 149. 150. 151. 152. 155.\n",
      " 156. 157. 158. 159. 160. 163. 168. 171. 175. 175. 176. 177. 179. 180.\n",
      " 181. 189. 190. 191. 193. 194. 196. 197. 207. 210. 211. 222. 223. 224.\n",
      " 234. 240. 244. 255. 265. 267. 272. 279. 297. 309. 313. 314. 315. 316.\n",
      " 317. 318. 319. 320. 321. 322. 325. 333. 334. 335. 336. 337. 338. 339.\n",
      " 340. 341. 342. 343. 350. 351. 352. 353. 354. 361. 362. 364. 365. 366.\n",
      " 367. 368. 369. 370. 377. 378. 379. 380. 381. 382. 383. 384. 388. 389.\n",
      " 400. 401. 402. 403. 404. 405. 406. 407. 408. 409. 410. 411. 412. 413.\n",
      " 414. 426. 427. 428. 429. 430. 435. 438. 439. 440. 441. 442. 443. 444.\n",
      " 445. 446. 447. 448. 450. 451. 452. 453. 454. 455. 456. 459. 461. 462.\n",
      " 463. 464. 465. 466. 467. 468. 469. 470. 473. 474. 475. 476. 478. 479.]\n"
     ]
    }
   ],
   "source": [
    "file1_path = 'data/csv/newPasig_saved_coordinates.csv'\n",
    "file2_path = 'data/csv/pasig_filtered_coordinates.csv'\n",
    "\n",
    "old_coords = pd.read_csv(file1_path)\n",
    "new_coords = pd.read_csv(file2_path)\n",
    "\n",
    "old_xCoord = old_coords['X']\n",
    "old_yCoord = old_coords['Y']\n",
    "\n",
    "new_xCoord = new_coords['X']\n",
    "new_yCoord = new_coords['Y']\n",
    "\n",
    "pasig_different_indices = np.array([])\n",
    "\n",
    "j=0\n",
    "for i, (new_x, new_y) in enumerate(zip(new_xCoord, new_yCoord)):\n",
    "    for j, (old_x, old_y) in enumerate(zip(old_xCoord,old_yCoord)):\n",
    "        if (old_x == new_x) or (old_y == new_y):\n",
    "            pasig_different_indices = np.append(pasig_different_indices, j)\n",
    "            break\n",
    "\n",
    "print(\"Indices of filtered coords in old csv:\")\n",
    "print(np.sort(pasig_different_indices))\n"
   ]
  },
  {
   "cell_type": "code",
   "execution_count": 9,
   "metadata": {},
   "outputs": [
    {
     "data": {
      "text/plain": [
       "266"
      ]
     },
     "execution_count": 9,
     "metadata": {},
     "output_type": "execute_result"
    }
   ],
   "source": [
    "len(pasig_different_indices)"
   ]
  },
  {
   "cell_type": "markdown",
   "metadata": {},
   "source": [
    "## Update Filtered Images"
   ]
  },
  {
   "cell_type": "code",
   "execution_count": 10,
   "metadata": {},
   "outputs": [],
   "source": [
    "def copy_images(source_folder, dest_folder, indices):\n",
    "    os.makedirs(dest_folder, exist_ok=True)\n",
    "    \n",
    "    for index in indices.astype(int):\n",
    "        filename = os.listdir(source_folder)[index]\n",
    "        \n",
    "        source_path = os.path.join(source_folder, filename)\n",
    "        dest_path = os.path.join(dest_folder, filename)\n",
    "        \n",
    "        shutil.copyfile(source_path, dest_path)\n",
    "\n",
    "source_folder = \"data/images/newPasig\"\n",
    "dest_folder = \"data/images/filtered_pasig_images\"\n",
    "\n",
    "copy_images(source_folder, dest_folder, pasig_different_indices)"
   ]
  },
  {
   "cell_type": "code",
   "execution_count": null,
   "metadata": {},
   "outputs": [],
   "source": []
  }
 ],
 "metadata": {
  "kernelspec": {
   "display_name": "Python 3 (ipykernel)",
   "language": "python",
   "name": "python3"
  },
  "language_info": {
   "codemirror_mode": {
    "name": "ipython",
    "version": 3
   },
   "file_extension": ".py",
   "mimetype": "text/x-python",
   "name": "python",
   "nbconvert_exporter": "python",
   "pygments_lexer": "ipython3",
   "version": "3.9.12"
  }
 },
 "nbformat": 4,
 "nbformat_minor": 4
}
