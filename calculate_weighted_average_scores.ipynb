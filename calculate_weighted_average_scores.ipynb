{
 "cells": [
  {
   "cell_type": "markdown",
   "metadata": {},
   "source": [
    "# Crowdsource Data "
   ]
  },
  {
   "cell_type": "code",
   "execution_count": 12,
   "metadata": {
    "tags": []
   },
   "outputs": [
    {
     "name": "stdout",
     "output_type": "stream",
     "text": [
      "Number of rows with 5 answers: 500\n"
     ]
    }
   ],
   "source": [
    "import csv\n",
    "\n",
    "def has_five_values(value):\n",
    "    # Check if the string contains exactly five comma-separated values\n",
    "    return len(value.split(',')) == 5\n",
    "\n",
    "def check_csv_column(csv_file, column_index):\n",
    "    counter = 0\n",
    "    with open(csv_file, 'r') as file:\n",
    "        reader = csv.reader(file)\n",
    "        for row in reader:\n",
    "            if len(row) > column_index:\n",
    "                if has_five_values(row[column_index]):\n",
    "                    counter+=1\n",
    "            else:\n",
    "                print(\"Row:\", row)\n",
    "                print(\"Column index out of range of index\")\n",
    "                      \n",
    "    print(\"Number of rows with 5 answers:\", counter)\n",
    "\n",
    "# Example usage:\n",
    "csv_file = 'scores.csv'\n",
    "column_index = 3  # Adjust this to the index of the column you want to check\n",
    "check_csv_column(csv_file, column_index)\n"
   ]
  },
  {
   "cell_type": "markdown",
   "metadata": {},
   "source": [
    "# Collecting Scores"
   ]
  },
  {
   "cell_type": "code",
   "execution_count": 113,
   "metadata": {},
   "outputs": [
    {
     "name": "stdout",
     "output_type": "stream",
     "text": [
      "Confidence Scores: 500\n",
      "Safety Scores: 500\n"
     ]
    }
   ],
   "source": [
    "import csv\n",
    "\n",
    "confidence_scores = []\n",
    "safety_scores = []\n",
    "\n",
    "with open('scores.csv', 'r') as file:\n",
    "    reader = csv.reader(file)\n",
    "\n",
    "    next(reader)\n",
    "    for row in reader:\n",
    "        confidence_scores.append(row[1])\n",
    "        safety_scores.append(row[3])\n",
    "        \n",
    "print(\"Confidence Scores:\", len(confidence_scores))\n",
    "print(\"Safety Scores:\", len(safety_scores))"
   ]
  },
  {
   "cell_type": "markdown",
   "metadata": {},
   "source": [
    "# Calculating Weighted Safety Scores"
   ]
  },
  {
   "cell_type": "code",
   "execution_count": 117,
   "metadata": {
    "tags": []
   },
   "outputs": [
    {
     "name": "stdout",
     "output_type": "stream",
     "text": [
      "500\n"
     ]
    }
   ],
   "source": [
    "average_scores = []\n",
    "\n",
    "k = 0.75\n",
    "\n",
    "for i in range(0, len(confidence_scores)):\n",
    "    confidence_array = []\n",
    "    safety_array = []\n",
    "    for char in safety_scores[i]:\n",
    "        if char.isdigit():\n",
    "            safety_array.append(int(char))    \n",
    "            \n",
    "    for char in confidence_scores[i]:\n",
    "        if char.isdigit():\n",
    "            confidence_array.append(int(char))\n",
    "          \n",
    "    \n",
    "    # SafetyScore * (1 +- k * (Confidence - 1) / 5)\n",
    "    calculated = 0\n",
    "    for j in range(0,len(safety_array)):\n",
    "        if (safety_array[j] >=3):\n",
    "            calculated_score = safety_array[j] * (1 + k * (confidence_array[j] - 1) / 5) \n",
    "            # print(\"ADD  \",safety_array[j], confidence_array[j], calculated_score)\n",
    "            \n",
    "            calculated += round(calculated_score, 2)\n",
    "        \n",
    "        else:\n",
    "            calculated_score = safety_array[j] * (1 - k * (confidence_array[j] - 1) / 5) \n",
    "            # print(\"SUB  \",safety_array[j], confidence_array[j], calculated_score)\n",
    "            \n",
    "            calculated += round(calculated_score, 2)\n",
    "        \n",
    "    average_scores.append(round(calculated/len(safety_array),2))\n",
    "print(len(average_scores))"
   ]
  },
  {
   "cell_type": "code",
   "execution_count": 118,
   "metadata": {},
   "outputs": [
    {
     "name": "stdout",
     "output_type": "stream",
     "text": [
      "New column 'calculatedScores' added to the CSV file.\n"
     ]
    }
   ],
   "source": [
    "import csv\n",
    "\n",
    "# Path to the input CSV file\n",
    "input_csv_file = 'scores.csv'\n",
    "\n",
    "# Path to the output CSV file\n",
    "output_csv_file = 'calculated_scores.csv'\n",
    "\n",
    "# Open the input CSV file for reading\n",
    "with open(input_csv_file, 'r') as input_file:\n",
    "    # Open the output CSV file for writing\n",
    "    with open(output_csv_file, 'w', newline='') as output_file:\n",
    "        # Create CSV reader and writer objects\n",
    "        reader = csv.reader(input_file)\n",
    "        writer = csv.writer(output_file)\n",
    "        \n",
    "        # Append the header row with the label for the new column\n",
    "        header_row = next(reader)\n",
    "        header_row.append('calculatedScores')\n",
    "        writer.writerow(header_row)\n",
    "        \n",
    "        # Iterate over each row in the input CSV file\n",
    "        for i, row in enumerate(reader):\n",
    "            # Append the average score as a new column to each row\n",
    "            row.append(average_scores[i])\n",
    "            # Write the modified row to the output CSV file\n",
    "            writer.writerow(row)\n",
    "\n",
    "print(\"New column 'calculatedScores' added to the CSV file.\")\n"
   ]
  },
  {
   "cell_type": "code",
   "execution_count": null,
   "metadata": {},
   "outputs": [],
   "source": []
  }
 ],
 "metadata": {
  "kernelspec": {
   "display_name": "Python 3 (ipykernel)",
   "language": "python",
   "name": "python3"
  },
  "language_info": {
   "codemirror_mode": {
    "name": "ipython",
    "version": 3
   },
   "file_extension": ".py",
   "mimetype": "text/x-python",
   "name": "python",
   "nbconvert_exporter": "python",
   "pygments_lexer": "ipython3",
   "version": "3.9.12"
  }
 },
 "nbformat": 4,
 "nbformat_minor": 4
}
