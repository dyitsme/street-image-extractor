{
 "cells": [
  {
   "cell_type": "code",
   "execution_count": 1,
   "metadata": {},
   "outputs": [],
   "source": [
    "import geopandas as gpd"
   ]
  },
  {
   "cell_type": "markdown",
   "metadata": {},
   "source": [
    "Todo\n",
    "- convert all geojson files into 1 geodataframe \n",
    "- data cleaning\n",
    "- clip the inputs onto the map layer, similar to getting the intersection between the points and the map layer\n",
    "- return the output onto a file\n",
    "- write documentation in this notebook if necessary"
   ]
  },
  {
   "cell_type": "code",
   "execution_count": 2,
   "metadata": {},
   "outputs": [
    {
     "data": {
      "text/html": [
       "<div>\n",
       "<style scoped>\n",
       "    .dataframe tbody tr th:only-of-type {\n",
       "        vertical-align: middle;\n",
       "    }\n",
       "\n",
       "    .dataframe tbody tr th {\n",
       "        vertical-align: top;\n",
       "    }\n",
       "\n",
       "    .dataframe thead th {\n",
       "        text-align: right;\n",
       "    }\n",
       "</style>\n",
       "<table border=\"1\" class=\"dataframe\">\n",
       "  <thead>\n",
       "    <tr style=\"text-align: right;\">\n",
       "      <th></th>\n",
       "      <th>id</th>\n",
       "      <th>thumb_2048_url</th>\n",
       "      <th>geometry</th>\n",
       "    </tr>\n",
       "  </thead>\n",
       "  <tbody>\n",
       "    <tr>\n",
       "      <th>0</th>\n",
       "      <td>141099175094646</td>\n",
       "      <td>https://scontent.fmnl30-2.fna.fbcdn.net/m1/v/t...</td>\n",
       "      <td>POINT (121.00463 14.51509)</td>\n",
       "    </tr>\n",
       "    <tr>\n",
       "      <th>1</th>\n",
       "      <td>146893257832571</td>\n",
       "      <td>https://scontent.fmnl30-2.fna.fbcdn.net/m1/v/t...</td>\n",
       "      <td>POINT (121.00415 14.51526)</td>\n",
       "    </tr>\n",
       "    <tr>\n",
       "      <th>2</th>\n",
       "      <td>1271566366705082</td>\n",
       "      <td>https://scontent.fmnl30-2.fna.fbcdn.net/m1/v/t...</td>\n",
       "      <td>POINT (121.00466 14.51516)</td>\n",
       "    </tr>\n",
       "    <tr>\n",
       "      <th>3</th>\n",
       "      <td>1366346587175059</td>\n",
       "      <td>https://scontent.fmnl30-2.fna.fbcdn.net/m1/v/t...</td>\n",
       "      <td>POINT (121.00471 14.51513)</td>\n",
       "    </tr>\n",
       "    <tr>\n",
       "      <th>4</th>\n",
       "      <td>1034665014061859</td>\n",
       "      <td>https://scontent.fmnl30-2.fna.fbcdn.net/m1/v/t...</td>\n",
       "      <td>POINT (121.00444 14.51505)</td>\n",
       "    </tr>\n",
       "    <tr>\n",
       "      <th>...</th>\n",
       "      <td>...</td>\n",
       "      <td>...</td>\n",
       "      <td>...</td>\n",
       "    </tr>\n",
       "    <tr>\n",
       "      <th>1754</th>\n",
       "      <td>1939926079544062</td>\n",
       "      <td>https://scontent.fmnl30-2.fna.fbcdn.net/m1/v/t...</td>\n",
       "      <td>POINT (121.00407 14.51470)</td>\n",
       "    </tr>\n",
       "    <tr>\n",
       "      <th>1755</th>\n",
       "      <td>679766470005938</td>\n",
       "      <td>https://scontent.fmnl30-2.fna.fbcdn.net/m1/v/t...</td>\n",
       "      <td>POINT (121.00425 14.51538)</td>\n",
       "    </tr>\n",
       "    <tr>\n",
       "      <th>1756</th>\n",
       "      <td>683787782828640</td>\n",
       "      <td>https://scontent.fmnl30-2.fna.fbcdn.net/m1/v/t...</td>\n",
       "      <td>POINT (121.00423 14.51508)</td>\n",
       "    </tr>\n",
       "    <tr>\n",
       "      <th>1757</th>\n",
       "      <td>1363209187439326</td>\n",
       "      <td>https://scontent.fmnl30-2.fna.fbcdn.net/m1/v/t...</td>\n",
       "      <td>POINT (121.00416 14.51496)</td>\n",
       "    </tr>\n",
       "    <tr>\n",
       "      <th>1758</th>\n",
       "      <td>1717844381887803</td>\n",
       "      <td>https://scontent.fmnl30-2.fna.fbcdn.net/m1/v/t...</td>\n",
       "      <td>POINT (121.00406 14.51495)</td>\n",
       "    </tr>\n",
       "  </tbody>\n",
       "</table>\n",
       "<p>1759 rows × 3 columns</p>\n",
       "</div>"
      ],
      "text/plain": [
       "                    id                                     thumb_2048_url  \\\n",
       "0      141099175094646  https://scontent.fmnl30-2.fna.fbcdn.net/m1/v/t...   \n",
       "1      146893257832571  https://scontent.fmnl30-2.fna.fbcdn.net/m1/v/t...   \n",
       "2     1271566366705082  https://scontent.fmnl30-2.fna.fbcdn.net/m1/v/t...   \n",
       "3     1366346587175059  https://scontent.fmnl30-2.fna.fbcdn.net/m1/v/t...   \n",
       "4     1034665014061859  https://scontent.fmnl30-2.fna.fbcdn.net/m1/v/t...   \n",
       "...                ...                                                ...   \n",
       "1754  1939926079544062  https://scontent.fmnl30-2.fna.fbcdn.net/m1/v/t...   \n",
       "1755   679766470005938  https://scontent.fmnl30-2.fna.fbcdn.net/m1/v/t...   \n",
       "1756   683787782828640  https://scontent.fmnl30-2.fna.fbcdn.net/m1/v/t...   \n",
       "1757  1363209187439326  https://scontent.fmnl30-2.fna.fbcdn.net/m1/v/t...   \n",
       "1758  1717844381887803  https://scontent.fmnl30-2.fna.fbcdn.net/m1/v/t...   \n",
       "\n",
       "                        geometry  \n",
       "0     POINT (121.00463 14.51509)  \n",
       "1     POINT (121.00415 14.51526)  \n",
       "2     POINT (121.00466 14.51516)  \n",
       "3     POINT (121.00471 14.51513)  \n",
       "4     POINT (121.00444 14.51505)  \n",
       "...                          ...  \n",
       "1754  POINT (121.00407 14.51470)  \n",
       "1755  POINT (121.00425 14.51538)  \n",
       "1756  POINT (121.00423 14.51508)  \n",
       "1757  POINT (121.00416 14.51496)  \n",
       "1758  POINT (121.00406 14.51495)  \n",
       "\n",
       "[1759 rows x 3 columns]"
      ]
     },
     "execution_count": 2,
     "metadata": {},
     "output_type": "execute_result"
    }
   ],
   "source": [
    "paranaque_gdf = gpd.read_file('data/paranaque/paranaque1109.geojson')\n",
    "paranaque_gdf"
   ]
  },
  {
   "cell_type": "code",
   "execution_count": 3,
   "metadata": {},
   "outputs": [
    {
     "data": {
      "text/plain": [
       "1759"
      ]
     },
     "execution_count": 3,
     "metadata": {},
     "output_type": "execute_result"
    }
   ],
   "source": [
    "len(paranaque_gdf)"
   ]
  }
 ],
 "metadata": {
  "kernelspec": {
   "display_name": "Python 3",
   "language": "python",
   "name": "python3"
  },
  "language_info": {
   "codemirror_mode": {
    "name": "ipython",
    "version": 3
   },
   "file_extension": ".py",
   "mimetype": "text/x-python",
   "name": "python",
   "nbconvert_exporter": "python",
   "pygments_lexer": "ipython3",
   "version": "3.10.8"
  }
 },
 "nbformat": 4,
 "nbformat_minor": 2
}
